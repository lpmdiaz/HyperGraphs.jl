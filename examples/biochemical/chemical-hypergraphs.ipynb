{
 "cells": [
  {
   "cell_type": "markdown",
   "id": "a80ca2e9",
   "metadata": {},
   "source": [
    "# Representing biochemical systems with chemical hypergraphs\n",
    "\n",
    "Here we show how to use chemical hypergraphs to represent biochemical systems. This representation is equivalent to that provided by chemical reaction networks, and by stochastic Petri nets."
   ]
  },
  {
   "cell_type": "code",
   "execution_count": 1,
   "id": "ef835045",
   "metadata": {},
   "outputs": [],
   "source": [
    "using HyperGraphs"
   ]
  },
  {
   "cell_type": "markdown",
   "id": "79205eaa",
   "metadata": {},
   "source": [
    "## Example 1: MEK-ERK dynamics\n",
    "\n",
    "The model of MEK-ERK dynamics we use is adapted from\n",
    "\n",
    "> Filippi, S. et al. Robustness of MEK-ERK Dynamics and Origins of Cell-to-Cell Variability in MAPK Signaling. _Cell Reports_ **15**, 2524–2535 (2016). [[doi]](http://dx.doi.org/10.1016/j.celrep.2016.05.024)\n",
    "\n",
    "Note that parameter names have been changed.\n",
    "\n",
    "We use [Symbolics.jl](https://github.com/JuliaSymbolics/Symbolics.jl) to represent model parameters and state variables as symbolics variables, which we use to generate symbolic equations."
   ]
  },
  {
   "cell_type": "code",
   "execution_count": 2,
   "id": "d77bea04",
   "metadata": {},
   "outputs": [],
   "source": [
    "using Symbolics"
   ]
  },
  {
   "cell_type": "code",
   "execution_count": 3,
   "id": "5777cfcb",
   "metadata": {},
   "outputs": [],
   "source": [
    "@variables t k₁ k₂ k₃ k₄ k₅ k₆ k′₁ k′₂ k′₃ k′₄ k′₅ k′₆;\n",
    "@variables E(t) M(t) pE(t) ppE(t) Pt(t) E_M(t) pE_M(t) pE_Pt(t) ppE_Pt(t);"
   ]
  },
  {
   "cell_type": "code",
   "execution_count": 4,
   "id": "cb6100b5",
   "metadata": {},
   "outputs": [
    {
     "data": {
      "text/plain": [
       "12-element Vector{ChemicalHyperEdge{Num}}:\n",
       " ChemicalHyperEdge{Num}(SpeciesSet{Num}(Num[E(t), M(t)], [1, 1]), SpeciesSet{Num}(Num[E_M(t)], [1]), k₁)\n",
       " ChemicalHyperEdge{Num}(SpeciesSet{Num}(Num[E_M(t)], [1]), SpeciesSet{Num}(Num[E(t), M(t)], [1, 1]), k₂)\n",
       " ChemicalHyperEdge{Num}(SpeciesSet{Num}(Num[E_M(t)], [1]), SpeciesSet{Num}(Num[pE(t), M(t)], [1, 1]), k₃)\n",
       " ChemicalHyperEdge{Num}(SpeciesSet{Num}(Num[pE(t), M(t)], [1, 1]), SpeciesSet{Num}(Num[pE_M(t)], [1]), k₄)\n",
       " ChemicalHyperEdge{Num}(SpeciesSet{Num}(Num[pE_M(t)], [1]), SpeciesSet{Num}(Num[pE(t), M(t)], [1, 1]), k₅)\n",
       " ChemicalHyperEdge{Num}(SpeciesSet{Num}(Num[pE_M(t)], [1]), SpeciesSet{Num}(Num[ppE(t), M(t)], [1, 1]), k₆)\n",
       " ChemicalHyperEdge{Num}(SpeciesSet{Num}(Num[ppE(t), Pt(t)], [1, 1]), SpeciesSet{Num}(Num[ppE_Pt(t)], [1]), k′₁)\n",
       " ChemicalHyperEdge{Num}(SpeciesSet{Num}(Num[ppE_Pt(t)], [1]), SpeciesSet{Num}(Num[ppE(t), Pt(t)], [1, 1]), k′₂)\n",
       " ChemicalHyperEdge{Num}(SpeciesSet{Num}(Num[ppE_Pt(t)], [1]), SpeciesSet{Num}(Num[pE(t), Pt(t)], [1, 1]), k′₃)\n",
       " ChemicalHyperEdge{Num}(SpeciesSet{Num}(Num[pE(t), Pt(t)], [1, 1]), SpeciesSet{Num}(Num[pE_Pt(t)], [1]), k′₄)\n",
       " ChemicalHyperEdge{Num}(SpeciesSet{Num}(Num[pE_Pt(t)], [1]), SpeciesSet{Num}(Num[pE(t), Pt(t)], [1, 1]), k′₅)\n",
       " ChemicalHyperEdge{Num}(SpeciesSet{Num}(Num[pE_Pt(t)], [1]), SpeciesSet{Num}(Num[E(t), Pt(t)], [1, 1]), k′₆)"
      ]
     },
     "execution_count": 4,
     "metadata": {},
     "output_type": "execute_result"
    }
   ],
   "source": [
    "const ChE = ChemicalHyperEdge\n",
    "\n",
    "rxs =  [# phosphorylation reactions\n",
    "        ChE([E, M], [E_M], k₁),        # binding\n",
    "        ChE([E_M], [E, M], k₂),        # unbinding\n",
    "        ChE([E_M], [pE, M], k₃),       # phosphorylation #1\n",
    "        ChE([pE, M], [pE_M], k₄),      # binding\n",
    "        ChE([pE_M], [pE, M], k₅),      # unbinding\n",
    "        ChE([pE_M], [ppE, M], k₆),     # phosphorylation #2\n",
    "\n",
    "        # dephosphorylation reactions\n",
    "        ChE([ppE, Pt], [ppE_Pt], k′₁), # binding\n",
    "        ChE([ppE_Pt], [ppE, Pt], k′₂), # unbinding\n",
    "        ChE([ppE_Pt], [pE, Pt], k′₃),  # dephosphorylation #1\n",
    "        ChE([pE, Pt], [pE_Pt], k′₄),   # binding\n",
    "        ChE([pE_Pt], [pE, Pt], k′₅),   # unbinding\n",
    "        ChE([pE_Pt], [E, Pt], k′₆)]    # dephosphorylation #2"
   ]
  },
  {
   "cell_type": "code",
   "execution_count": 5,
   "id": "115c7fe5",
   "metadata": {
    "scrolled": true
   },
   "outputs": [
    {
     "data": {
      "text/plain": [
       "ChemicalHyperGraph{Num}(Num[E(t), M(t), E_M(t), pE(t), pE_M(t), ppE(t), Pt(t), ppE_Pt(t), pE_Pt(t)], ChemicalHyperEdge{Num}[ChemicalHyperEdge{Num}(SpeciesSet{Num}(Num[E(t), M(t)], [1, 1]), SpeciesSet{Num}(Num[E_M(t)], [1]), k₁), ChemicalHyperEdge{Num}(SpeciesSet{Num}(Num[E_M(t)], [1]), SpeciesSet{Num}(Num[E(t), M(t)], [1, 1]), k₂), ChemicalHyperEdge{Num}(SpeciesSet{Num}(Num[E_M(t)], [1]), SpeciesSet{Num}(Num[pE(t), M(t)], [1, 1]), k₃), ChemicalHyperEdge{Num}(SpeciesSet{Num}(Num[pE(t), M(t)], [1, 1]), SpeciesSet{Num}(Num[pE_M(t)], [1]), k₄), ChemicalHyperEdge{Num}(SpeciesSet{Num}(Num[pE_M(t)], [1]), SpeciesSet{Num}(Num[pE(t), M(t)], [1, 1]), k₅), ChemicalHyperEdge{Num}(SpeciesSet{Num}(Num[pE_M(t)], [1]), SpeciesSet{Num}(Num[ppE(t), M(t)], [1, 1]), k₆), ChemicalHyperEdge{Num}(SpeciesSet{Num}(Num[ppE(t), Pt(t)], [1, 1]), SpeciesSet{Num}(Num[ppE_Pt(t)], [1]), k′₁), ChemicalHyperEdge{Num}(SpeciesSet{Num}(Num[ppE_Pt(t)], [1]), SpeciesSet{Num}(Num[ppE(t), Pt(t)], [1, 1]), k′₂), ChemicalHyperEdge{Num}(SpeciesSet{Num}(Num[ppE_Pt(t)], [1]), SpeciesSet{Num}(Num[pE(t), Pt(t)], [1, 1]), k′₃), ChemicalHyperEdge{Num}(SpeciesSet{Num}(Num[pE(t), Pt(t)], [1, 1]), SpeciesSet{Num}(Num[pE_Pt(t)], [1]), k′₄), ChemicalHyperEdge{Num}(SpeciesSet{Num}(Num[pE_Pt(t)], [1]), SpeciesSet{Num}(Num[pE(t), Pt(t)], [1, 1]), k′₅), ChemicalHyperEdge{Num}(SpeciesSet{Num}(Num[pE_Pt(t)], [1]), SpeciesSet{Num}(Num[E(t), Pt(t)], [1, 1]), k′₆)])"
      ]
     },
     "execution_count": 5,
     "metadata": {},
     "output_type": "execute_result"
    }
   ],
   "source": [
    "X = ChemicalHyperGraph(rxs)"
   ]
  },
  {
   "cell_type": "markdown",
   "id": "24b8bc2d",
   "metadata": {},
   "source": [
    "Here we show a simple implementation of mass action kinetics on both a single chemical hyperedge and on a chemical hypergraph. These abstract functions may then be used to generate the system of equations describing the deterministic dynamics of the system."
   ]
  },
  {
   "cell_type": "code",
   "execution_count": 6,
   "id": "a98ceeb9",
   "metadata": {
    "scrolled": true
   },
   "outputs": [
    {
     "data": {
      "text/plain": [
       "mass_action (generic function with 2 methods)"
      ]
     },
     "execution_count": 6,
     "metadata": {},
     "output_type": "execute_result"
    }
   ],
   "source": [
    "mass_action(e::ChemicalHyperEdge) = rate(e) * prod(src(e) .^ src_stoich(e))\n",
    "mass_action(x::ChemicalHyperGraph) = mass_action.(hyperedges(x))"
   ]
  },
  {
   "cell_type": "code",
   "execution_count": 7,
   "id": "f5641ed4",
   "metadata": {},
   "outputs": [
    {
     "data": {
      "text/latex": [
       "\\begin{align}\n",
       "\\frac{dE(t)}{dt} =& k^\\prime_6 \\mathrm{pE\\_Pt}\\left( t \\right) + k_2 \\mathrm{E\\_M}\\left( t \\right) - k_1 E\\left( t \\right) M\\left( t \\right) \\\\\n",
       "\\frac{dM(t)}{dt} =& k_2 \\mathrm{E\\_M}\\left( t \\right) + k_3 \\mathrm{E\\_M}\\left( t \\right) + k_5 \\mathrm{pE\\_M}\\left( t \\right) + k_6 \\mathrm{pE\\_M}\\left( t \\right) - k_1 E\\left( t \\right) M\\left( t \\right) - k_4 M\\left( t \\right) \\mathrm{pE}\\left( t \\right) \\\\\n",
       "\\frac{dE_{M(t)}}{dt} =&  - k_2 \\mathrm{E\\_M}\\left( t \\right) - k_3 \\mathrm{E\\_M}\\left( t \\right) + k_1 E\\left( t \\right) M\\left( t \\right) \\\\\n",
       "\\frac{dpE(t)}{dt} =& k^\\prime_3 \\mathrm{ppE\\_Pt}\\left( t \\right) + k_3 \\mathrm{E\\_M}\\left( t \\right) + k_5 \\mathrm{pE\\_M}\\left( t \\right) + k^\\prime_5 \\mathrm{pE\\_Pt}\\left( t \\right) - k_4 M\\left( t \\right) \\mathrm{pE}\\left( t \\right) - k^\\prime_4 \\mathrm{Pt}\\left( t \\right) \\mathrm{pE}\\left( t \\right) \\\\\n",
       "\\frac{dpE_{M(t)}}{dt} =&  - k_5 \\mathrm{pE\\_M}\\left( t \\right) + k_4 M\\left( t \\right) \\mathrm{pE}\\left( t \\right) - k_6 \\mathrm{pE\\_M}\\left( t \\right) \\\\\n",
       "\\frac{dppE(t)}{dt} =& k^\\prime_2 \\mathrm{ppE\\_Pt}\\left( t \\right) + k_6 \\mathrm{pE\\_M}\\left( t \\right) - k^\\prime_1 \\mathrm{Pt}\\left( t \\right) \\mathrm{ppE}\\left( t \\right) \\\\\n",
       "\\frac{dPt(t)}{dt} =& k^\\prime_2 \\mathrm{ppE\\_Pt}\\left( t \\right) + k^\\prime_3 \\mathrm{ppE\\_Pt}\\left( t \\right) + k^\\prime_5 \\mathrm{pE\\_Pt}\\left( t \\right) + k^\\prime_6 \\mathrm{pE\\_Pt}\\left( t \\right) - k^\\prime_1 \\mathrm{Pt}\\left( t \\right) \\mathrm{ppE}\\left( t \\right) - k^\\prime_4 \\mathrm{Pt}\\left( t \\right) \\mathrm{pE}\\left( t \\right) \\\\\n",
       "\\frac{dppE_{Pt(t)}}{dt} =&  - k^\\prime_2 \\mathrm{ppE\\_Pt}\\left( t \\right) - k^\\prime_3 \\mathrm{ppE\\_Pt}\\left( t \\right) + k^\\prime_1 \\mathrm{Pt}\\left( t \\right) \\mathrm{ppE}\\left( t \\right) \\\\\n",
       "\\frac{dpE_{Pt(t)}}{dt} =& k^\\prime_4 \\mathrm{Pt}\\left( t \\right) \\mathrm{pE}\\left( t \\right) - k^\\prime_5 \\mathrm{pE\\_Pt}\\left( t \\right) - k^\\prime_6 \\mathrm{pE\\_Pt}\\left( t \\right)\n",
       "\\end{align}\n"
      ],
      "text/plain": [
       "9-element Vector{Equation}:\n",
       " Differential(t)(E(t)) ~ k′₆*pE_Pt(t) + k₂*E_M(t) - k₁*E(t)*M(t)\n",
       " Differential(t)(M(t)) ~ k₂*E_M(t) + k₃*E_M(t) + k₅*pE_M(t) + k₆*pE_M(t) - k₁*E(t)*M(t) - k₄*M(t)*pE(t)\n",
       " Differential(t)(E_M(t)) ~ k₁*E(t)*M(t) - k₂*E_M(t) - k₃*E_M(t)\n",
       " Differential(t)(pE(t)) ~ k′₃*ppE_Pt(t) + k₃*E_M(t) + k₅*pE_M(t) + k′₅*pE_Pt(t) - k₄*M(t)*pE(t) - k′₄*Pt(t)*pE(t)\n",
       " Differential(t)(pE_M(t)) ~ k₄*M(t)*pE(t) - k₅*pE_M(t) - k₆*pE_M(t)\n",
       " Differential(t)(ppE(t)) ~ k′₂*ppE_Pt(t) + k₆*pE_M(t) - k′₁*Pt(t)*ppE(t)\n",
       " Differential(t)(Pt(t)) ~ k′₂*ppE_Pt(t) + k′₃*ppE_Pt(t) + k′₅*pE_Pt(t) + k′₆*pE_Pt(t) - k′₁*Pt(t)*ppE(t) - k′₄*Pt(t)*pE(t)\n",
       " Differential(t)(ppE_Pt(t)) ~ k′₁*Pt(t)*ppE(t) - k′₂*ppE_Pt(t) - k′₃*ppE_Pt(t)\n",
       " Differential(t)(pE_Pt(t)) ~ k′₄*Pt(t)*pE(t) - k′₅*pE_Pt(t) - k′₆*pE_Pt(t)"
      ]
     },
     "execution_count": 7,
     "metadata": {},
     "output_type": "execute_result"
    }
   ],
   "source": [
    "lhss = [Differential(t)(v) for v in vertices(X)]\n",
    "rhss = incidence_matrix(X) * mass_action(X)\n",
    "eqs  = Equation.(lhss, rhss)"
   ]
  },
  {
   "cell_type": "markdown",
   "id": "4a6abd76",
   "metadata": {},
   "source": [
    "These symbolic equations may then be simulated using other packages in the Julia package ecosystem (e.g. [ModelingToolkit.jl](https://github.com/SciML/ModelingToolkit.jl) and [OrdinaryDiffEq.jl](https://github.com/SciML/OrdinaryDiffEq.jl))."
   ]
  }
 ],
 "metadata": {
  "@webio": {
   "lastCommId": null,
   "lastKernelId": null
  },
  "kernelspec": {
   "display_name": "Julia 1.7.2",
   "language": "julia",
   "name": "julia-1.7"
  },
  "language_info": {
   "file_extension": ".jl",
   "mimetype": "application/julia",
   "name": "julia",
   "version": "1.7.2"
  }
 },
 "nbformat": 4,
 "nbformat_minor": 5
}
