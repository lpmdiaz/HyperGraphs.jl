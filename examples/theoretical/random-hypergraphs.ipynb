{
 "cells": [
  {
   "cell_type": "markdown",
   "id": "8cc767ab",
   "metadata": {},
   "source": [
    "# Generating random hypergraphs\n",
    "\n",
    "Here we show how to use HyperGraphs.jl to generate random hypergraphs.\n",
    "\n",
    "Note that in the examples below we use `-1` a number of times; this is because `0` is a valid degree and cardinality value, meaning that we have to offset iteration counts to align with the first object being index `0` and not `1` as usual.\n",
    "\n",
    "There are two obvious ways to generate random hypergraphs; this can be done either\n",
    "- by randomly populating `m` hyperedges with `k` vertices, with each `k` being randomly drawn from a distribution that describes the probability of observing hyperedges of some given cardinality; or\n",
    "- by iterating over all possible combinations of vertices (i.e. elements of the power set of V), where each combination appears as the vertex set of a hyperedge with some probability (that probability being either fixed i.e. the same for each combination, or with each combination having a different probability).\n",
    "\n",
    "The latter way is more computationally demanding and so we choose to focus on the first way here. This is similar to the approach taken in\n",
    "> Schawe, Hendrik, and Laura Hernández. 2022. ‘Higher Order Interactions Destroy Phase Transitions in Deffuant Opinion Dynamics Model’. _Communications Physics_ **5**(1): 1–9. https://doi.org/10.1038/s42005-022-00807-4.\n",
    "\n",
    "There the authors note that iterating over all possible hyperedges is not feasable, choosing instead to randomly draw the number of `k`-hyperedges to create."
   ]
  },
  {
   "cell_type": "code",
   "execution_count": 1,
   "id": "5969c796",
   "metadata": {},
   "outputs": [],
   "source": [
    "using HyperGraphs"
   ]
  },
  {
   "cell_type": "markdown",
   "id": "2782c6a3",
   "metadata": {},
   "source": [
    "## 1. Generating random `k`-uniform hypergraphs\n",
    "\n",
    "We start with the simple case of a `k`-uniform hypergraph, where each hyperedge has the same, fixed, cardinality `k`. Note that in the case where `k = 2` we recover a random graph. The parameters are:\n",
    "- `n` the number of vertices,\n",
    "- `m` the number of hyperedges,\n",
    "- `k` the cardinality of each hyperedge."
   ]
  },
  {
   "cell_type": "code",
   "execution_count": 2,
   "id": "fd61f605",
   "metadata": {},
   "outputs": [
    {
     "data": {
      "text/plain": [
       "(20, 7, 3)"
      ]
     },
     "execution_count": 2,
     "metadata": {},
     "output_type": "execute_result"
    }
   ],
   "source": [
    "n, m, k = 20, 7, 3"
   ]
  },
  {
   "cell_type": "markdown",
   "id": "c776d133",
   "metadata": {},
   "source": [
    "Given `n` and assuming vertices are integers, we can get the vertex set `V`."
   ]
  },
  {
   "cell_type": "code",
   "execution_count": 3,
   "id": "7221f04a",
   "metadata": {},
   "outputs": [
    {
     "data": {
      "text/plain": [
       "1:20"
      ]
     },
     "execution_count": 3,
     "metadata": {},
     "output_type": "execute_result"
    }
   ],
   "source": [
    "V = 1:n"
   ]
  },
  {
   "cell_type": "markdown",
   "id": "7bc2d5d8",
   "metadata": {},
   "source": [
    "It is then straightforward to create random hyperedges by randomly drawing `k` vertices in `V`, `m` times:"
   ]
  },
  {
   "cell_type": "code",
   "execution_count": 4,
   "id": "78ec76fe",
   "metadata": {},
   "outputs": [
    {
     "data": {
      "text/plain": [
       "7-element Vector{HyperEdge{Int64}}:\n",
       " HyperEdge{Int64}([17, 12, 1])\n",
       " HyperEdge{Int64}([19, 4, 11])\n",
       " HyperEdge{Int64}([16, 17, 8])\n",
       " HyperEdge{Int64}([20, 20, 8])\n",
       " HyperEdge{Int64}([1, 15, 5])\n",
       " HyperEdge{Int64}([14, 6, 15])\n",
       " HyperEdge{Int64}([9, 13, 10])"
      ]
     },
     "execution_count": 4,
     "metadata": {},
     "output_type": "execute_result"
    }
   ],
   "source": [
    "es = [HyperEdge(rand(V, k)) for _ in 1:m]"
   ]
  },
  {
   "cell_type": "markdown",
   "id": "261f418a",
   "metadata": {},
   "source": [
    "These hyperedges may then be used to create a hypergraph, and we can check that the resulting hypergraph is `k`-uniform."
   ]
  },
  {
   "cell_type": "code",
   "execution_count": 5,
   "id": "5cc9d2d2",
   "metadata": {},
   "outputs": [
    {
     "data": {
      "text/plain": [
       "true"
      ]
     },
     "execution_count": 5,
     "metadata": {},
     "output_type": "execute_result"
    }
   ],
   "source": [
    "x = HyperGraph(es)\n",
    "iskuniform(x, k)"
   ]
  },
  {
   "cell_type": "markdown",
   "id": "bee5943f",
   "metadata": {},
   "source": [
    "Note that hyperedges are generated with very few assumptions; particularly, multisets are naturally allowed since the same vertex in `V` may be drawn multiple times."
   ]
  },
  {
   "cell_type": "markdown",
   "id": "2d18eed3",
   "metadata": {},
   "source": [
    "## 2. Generating non-uniform random hypergraphs\n",
    "\n",
    "Here we focus on the more general case of non-uniform random hypergraphs, which arises as a generalisation of the approach above.\n",
    "\n",
    "A useful reference is\n",
    "> Dewar, Megan, John Healy, Xavier Pérez-Giménez, Paweł Prałat, John Proos, Benjamin Reiniger, and Kirill Ternovsky. 2018. ‘Subhypergraphs in Non-Uniform Random Hypergraphs’. _ArXiv:1703.07686 [Math]_, March. http://arxiv.org/abs/1703.07686.\n",
    "\n",
    "There, each hyperedge of each cardinality appears in the random hypergraph with some probability. As discussed above, we depart from this approach because it is too demanding to iterate over all possible combinations of vertices. Instead we use a vector describing cardinality counts, i.e. how many hyperedges of cardinality `k` we will randomly draw (in a similar way as above).\n",
    "\n",
    "The parameters are:\n",
    "- `n` the number of vertices,\n",
    "- `ks` a vector describing cardinality counts."
   ]
  },
  {
   "cell_type": "code",
   "execution_count": 6,
   "id": "4a56d3e7",
   "metadata": {},
   "outputs": [
    {
     "data": {
      "text/plain": [
       "(20, [0, 0, 5, 2])"
      ]
     },
     "execution_count": 6,
     "metadata": {},
     "output_type": "execute_result"
    }
   ],
   "source": [
    "n, ks = 20, [0, 0, 5, 2]"
   ]
  },
  {
   "cell_type": "markdown",
   "id": "bea8791c",
   "metadata": {},
   "source": [
    "Note that `ks` now encodes both cardinality information and number of hyperedges `m`:\n",
    "- each entry of `ks` corresponds to the cardinality of the index of that entry, minus `1` to offset the indexing to allow for cardinalities of `0`;\n",
    "- the sum of entries of `ks` gives `m` as defined in the example above.\n",
    "\n",
    "Explicitly, the vector `ks` defined as above means we are asking for `5` hyperedges of cardinality `2` and `2` hyperedges of cardinality `3`, thus a total of `m = sum(ks) = 7` hyperedges. This is simply a generalisation of the example above, where the equivalent `ks` would have been `ks = [0, 0, 0, 7]`.\n",
    "\n",
    "Again, we can get `V` by doing"
   ]
  },
  {
   "cell_type": "code",
   "execution_count": 7,
   "id": "11b326b2",
   "metadata": {},
   "outputs": [
    {
     "data": {
      "text/plain": [
       "1:20"
      ]
     },
     "execution_count": 7,
     "metadata": {},
     "output_type": "execute_result"
    }
   ],
   "source": [
    "V = 1:n"
   ]
  },
  {
   "cell_type": "markdown",
   "id": "c02ed62e",
   "metadata": {},
   "source": [
    "We can then generate random hyperedges by doing"
   ]
  },
  {
   "cell_type": "code",
   "execution_count": 8,
   "id": "f9b1e4f7",
   "metadata": {},
   "outputs": [
    {
     "data": {
      "text/plain": [
       "7-element Vector{HyperEdge{Int64}}:\n",
       " HyperEdge{Int64}([17, 16])\n",
       " HyperEdge{Int64}([18, 19])\n",
       " HyperEdge{Int64}([16, 7])\n",
       " HyperEdge{Int64}([1, 15])\n",
       " HyperEdge{Int64}([17, 2])\n",
       " HyperEdge{Int64}([3, 1, 5])\n",
       " HyperEdge{Int64}([9, 7, 20])"
      ]
     },
     "execution_count": 8,
     "metadata": {},
     "output_type": "execute_result"
    }
   ],
   "source": [
    "es = Vector{HyperEdge{Int64}}()\n",
    "for (k, m) in enumerate(ks) \n",
    "    append!(es, [HyperEdge(rand(V, k-1)) for _ in 1:m])\n",
    "end\n",
    "es"
   ]
  },
  {
   "cell_type": "markdown",
   "id": "8a9337f8",
   "metadata": {},
   "source": [
    "The for loop generates `m` hyperedges of cardinality `k` for each `k` in the indices of `ks`, with `m` being given by the entries of `ks`.\n",
    "\n",
    "These hyperedges may be used to generate a hypergraph, and we can check that the resulting hypergraph has as many hyperedges as the sum of `ks`, and that the cardinality counts correspond to the ones asked for."
   ]
  },
  {
   "cell_type": "code",
   "execution_count": 9,
   "id": "223fc9ef",
   "metadata": {},
   "outputs": [
    {
     "data": {
      "text/plain": [
       "(true, true)"
      ]
     },
     "execution_count": 9,
     "metadata": {},
     "output_type": "execute_result"
    }
   ],
   "source": [
    "x = HyperGraph(es)\n",
    "(nhe(x) == length(es) == sum(ks), cardinality_counts(x) == ks)"
   ]
  },
  {
   "cell_type": "markdown",
   "id": "35b2d550",
   "metadata": {},
   "source": [
    "Alternatively, `ks` may be drawn from a discrete distribution which support is the possible cardinality values. \n",
    "\n",
    "We illustrate this with a simple uniform distribution; we only show how to generate `ks` this way, since a random hypergraph arising from that `ks` may be generated in the same way as above."
   ]
  },
  {
   "cell_type": "code",
   "execution_count": 10,
   "id": "fc8b89b4",
   "metadata": {},
   "outputs": [
    {
     "data": {
      "text/plain": [
       "4-element Vector{Int64}:\n",
       " 2\n",
       " 2\n",
       " 3\n",
       " 3"
      ]
     },
     "execution_count": 10,
     "metadata": {},
     "output_type": "execute_result"
    }
   ],
   "source": [
    "using Distributions\n",
    "d = DiscreteUniform(0, 3)\n",
    "ks = [rand(d) for k in 0:3]"
   ]
  },
  {
   "cell_type": "markdown",
   "id": "64f2e837",
   "metadata": {},
   "source": [
    "Here, cardinalities range from `0` to `3`, thus defining the support of our distribution `d`.\n",
    "\n",
    "This generalises random `k`-uniform hypergraphs, where the two approaches are related via a Dirac distribution parameterised with some `k`."
   ]
  },
  {
   "cell_type": "code",
   "execution_count": 11,
   "id": "fde5c124",
   "metadata": {},
   "outputs": [
    {
     "data": {
      "text/plain": [
       "4-element Vector{Int64}:\n",
       " 0\n",
       " 0\n",
       " 0\n",
       " 3"
      ]
     },
     "execution_count": 11,
     "metadata": {},
     "output_type": "execute_result"
    }
   ],
   "source": [
    "k = 3\n",
    "ks .* Int.(pdf.(Dirac(k), 0:3))"
   ]
  },
  {
   "cell_type": "markdown",
   "id": "b2f29f8d",
   "metadata": {},
   "source": [
    "## 3. Closing remarks: some words on a more general approach to generating non-uniform random hypergraphs\n",
    "\n",
    "We have discussed above how iterating over each possible vertices combinations is computationally too demanding. Here we illustrate how it would be done, using a simple case that does not require too much compute time. This approach will not efficiently scale but we hope this simple example provides some intuition for a more general way of generating random hypergraphs."
   ]
  },
  {
   "cell_type": "code",
   "execution_count": 12,
   "id": "29cde33d",
   "metadata": {},
   "outputs": [
    {
     "data": {
      "text/plain": [
       "(20, 7, 3, 1:20)"
      ]
     },
     "execution_count": 12,
     "metadata": {},
     "output_type": "execute_result"
    }
   ],
   "source": [
    "n, m, k, V = 20, 7, 3, 1:n"
   ]
  },
  {
   "cell_type": "markdown",
   "id": "1d201029",
   "metadata": {},
   "source": [
    "We can use the `powerset` function from `Combinatorics` to get all possible hyperedge vertex sets (not counting multisets)."
   ]
  },
  {
   "cell_type": "code",
   "execution_count": 13,
   "id": "d85978bd",
   "metadata": {},
   "outputs": [
    {
     "data": {
      "text/plain": [
       "1048576-element Vector{Vector{Int64}}:\n",
       " []\n",
       " [1]\n",
       " [2]\n",
       " [3]\n",
       " [4]\n",
       " [5]\n",
       " [6]\n",
       " [7]\n",
       " [8]\n",
       " [9]\n",
       " [10]\n",
       " [11]\n",
       " [12]\n",
       " ⋮\n",
       " [1, 2, 3, 4, 5, 6, 7, 8, 9, 10, 12, 13, 14, 15, 16, 17, 18, 19, 20]\n",
       " [1, 2, 3, 4, 5, 6, 7, 8, 9, 11, 12, 13, 14, 15, 16, 17, 18, 19, 20]\n",
       " [1, 2, 3, 4, 5, 6, 7, 8, 10, 11, 12, 13, 14, 15, 16, 17, 18, 19, 20]\n",
       " [1, 2, 3, 4, 5, 6, 7, 9, 10, 11, 12, 13, 14, 15, 16, 17, 18, 19, 20]\n",
       " [1, 2, 3, 4, 5, 6, 8, 9, 10, 11, 12, 13, 14, 15, 16, 17, 18, 19, 20]\n",
       " [1, 2, 3, 4, 5, 7, 8, 9, 10, 11, 12, 13, 14, 15, 16, 17, 18, 19, 20]\n",
       " [1, 2, 3, 4, 6, 7, 8, 9, 10, 11, 12, 13, 14, 15, 16, 17, 18, 19, 20]\n",
       " [1, 2, 3, 5, 6, 7, 8, 9, 10, 11, 12, 13, 14, 15, 16, 17, 18, 19, 20]\n",
       " [1, 2, 4, 5, 6, 7, 8, 9, 10, 11, 12, 13, 14, 15, 16, 17, 18, 19, 20]\n",
       " [1, 3, 4, 5, 6, 7, 8, 9, 10, 11, 12, 13, 14, 15, 16, 17, 18, 19, 20]\n",
       " [2, 3, 4, 5, 6, 7, 8, 9, 10, 11, 12, 13, 14, 15, 16, 17, 18, 19, 20]\n",
       " [1, 2, 3, 4, 5, 6, 7, 8, 9, 10, 11, 12, 13, 14, 15, 16, 17, 18, 19, 20]"
      ]
     },
     "execution_count": 13,
     "metadata": {},
     "output_type": "execute_result"
    }
   ],
   "source": [
    "using Combinatorics\n",
    "collect(powerset(V))"
   ]
  },
  {
   "cell_type": "markdown",
   "id": "681e1411",
   "metadata": {},
   "source": [
    "The cell below shows how this could be used, here to generate a `3`-uniform hypergraph with `7` hyperedges."
   ]
  },
  {
   "cell_type": "code",
   "execution_count": 14,
   "id": "8d347764",
   "metadata": {},
   "outputs": [
    {
     "data": {
      "text/plain": [
       "HyperGraph{Int64}([3, 9, 20, 2, 17, 8, 10, 14, 1, 4, 6, 5, 11, 15, 7, 19], HyperEdge{Int64}[HyperEdge{Int64}([3, 9, 20]), HyperEdge{Int64}([2, 3, 17]), HyperEdge{Int64}([8, 10, 14]), HyperEdge{Int64}([1, 4, 6]), HyperEdge{Int64}([4, 5, 10]), HyperEdge{Int64}([3, 11, 15]), HyperEdge{Int64}([5, 7, 19])])"
      ]
     },
     "execution_count": 14,
     "metadata": {},
     "output_type": "execute_result"
    }
   ],
   "source": [
    "vs = rand(collect(combinations(V, 3)), 7)\n",
    "es = HyperEdge.(vs)\n",
    "x = HyperGraph(es)"
   ]
  }
 ],
 "metadata": {
  "@webio": {
   "lastCommId": null,
   "lastKernelId": null
  },
  "kernelspec": {
   "display_name": "Julia 1.7.2",
   "language": "julia",
   "name": "julia-1.7"
  },
  "language_info": {
   "file_extension": ".jl",
   "mimetype": "application/julia",
   "name": "julia",
   "version": "1.7.2"
  }
 },
 "nbformat": 4,
 "nbformat_minor": 5
}
